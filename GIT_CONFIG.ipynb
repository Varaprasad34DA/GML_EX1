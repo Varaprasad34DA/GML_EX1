{
  "nbformat": 4,
  "nbformat_minor": 0,
  "metadata": {
    "colab": {
      "provenance": [],
      "authorship_tag": "ABX9TyO/0XZnI2Y+ya2hWVEgDPe/",
      "include_colab_link": true
    },
    "kernelspec": {
      "name": "python3",
      "display_name": "Python 3"
    },
    "language_info": {
      "name": "python"
    }
  },
  "cells": [
    {
      "cell_type": "markdown",
      "metadata": {
        "id": "view-in-github",
        "colab_type": "text"
      },
      "source": [
        "<a href=\"https://colab.research.google.com/github/Varaprasad34DA/GML_EX1/blob/main/GIT_CONFIG.ipynb\" target=\"_parent\"><img src=\"https://colab.research.google.com/assets/colab-badge.svg\" alt=\"Open In Colab\"/></a>"
      ]
    },
    {
      "cell_type": "code",
      "execution_count": 2,
      "metadata": {
        "id": "wVZ0X0kUEYLl"
      },
      "outputs": [],
      "source": [
        "import os\n",
        "from git import Repo\n",
        "\n",
        "# Basic settings\n",
        "folder_name = \"GML_EX1\"\n",
        "remote_repo_url = \"https://github.com/Varaprasad34DA/GML_EX1.git\"\n",
        "main_file_name = \"GLM_EX1\""
      ]
    },
    {
      "cell_type": "code",
      "source": [
        "# Create and move into the project folder\n",
        "\n",
        "os.makedirs(folder_name, exist_ok=True)\n",
        "os.chdir(folder_name)\n",
        "print(f\"Created folder '{folder_name}' and switched into it.\")\n"
      ],
      "metadata": {
        "colab": {
          "base_uri": "https://localhost:8080/"
        },
        "id": "nklbiK7kGDd9",
        "outputId": "b40ebc03-4db1-47e7-98e2-9821fb3cc099"
      },
      "execution_count": 3,
      "outputs": [
        {
          "output_type": "stream",
          "name": "stdout",
          "text": [
            "Created folder 'GML_EX1' and switched into it.\n"
          ]
        }
      ]
    },
    {
      "cell_type": "code",
      "source": [
        "\n",
        "# Initialize a new Git repo\n",
        "\n",
        "repository = Repo.init(os.getcwd())\n",
        "print(\"Initialized a new Git repository.\")"
      ],
      "metadata": {
        "colab": {
          "base_uri": "https://localhost:8080/"
        },
        "id": "7Dd7Odz0FVrH",
        "outputId": "bed9e173-7d14-4f79-ffd8-58df7888e53b"
      },
      "execution_count": 4,
      "outputs": [
        {
          "output_type": "stream",
          "name": "stdout",
          "text": [
            "Initialized a new Git repository.\n"
          ]
        }
      ]
    },
    {
      "cell_type": "code",
      "source": [
        "\n",
        "# Create and rename a file\n",
        "\n",
        "with open(\"TEMP_README\", \"w\") as file:\n",
        "    file.write(\"This is an initial README for GML_EX1.\\n\")\n",
        "os.rename(\"TEMP_README\", main_file_name)\n",
        "print(f\"Created file and renamed it to '{main_file_name}'.\")\n"
      ],
      "metadata": {
        "colab": {
          "base_uri": "https://localhost:8080/"
        },
        "id": "GAAaF5x6FVoE",
        "outputId": "f4ed58e9-945a-4122-d762-eb38d168dd06"
      },
      "execution_count": 5,
      "outputs": [
        {
          "output_type": "stream",
          "name": "stdout",
          "text": [
            "Created file and renamed it to 'GLM_EX1'.\n"
          ]
        }
      ]
    },
    {
      "cell_type": "code",
      "source": [
        "# Stage the new file\n",
        "\n",
        "repository.index.add([main_file_name])\n",
        "print(f\"Staged the file: {main_file_name}\")"
      ],
      "metadata": {
        "colab": {
          "base_uri": "https://localhost:8080/"
        },
        "id": "nkPruza6FVk8",
        "outputId": "f2976c3f-d0eb-4317-a248-db07090912ad"
      },
      "execution_count": 6,
      "outputs": [
        {
          "output_type": "stream",
          "name": "stdout",
          "text": [
            "Staged the file: GLM_EX1\n"
          ]
        }
      ]
    },
    {
      "cell_type": "code",
      "source": [
        "# Set up the remote origin\n",
        "\n",
        "try:\n",
        "    remote_origin = repository.create_remote(\"origin\", remote_repo_url)\n",
        "    print(\"Remote 'origin' added.\")\n",
        "except Exception:\n",
        "    remote_origin = repository.remotes.origin\n",
        "    print(\"Remote 'origin' already exists; using existing remote.\")\n"
      ],
      "metadata": {
        "colab": {
          "base_uri": "https://localhost:8080/"
        },
        "id": "Gmx8ZUSLFVhK",
        "outputId": "f4d9aadd-0031-49e1-fb86-affaff59b21b"
      },
      "execution_count": 7,
      "outputs": [
        {
          "output_type": "stream",
          "name": "stdout",
          "text": [
            "Remote 'origin' added.\n"
          ]
        }
      ]
    },
    {
      "cell_type": "code",
      "source": [
        "# Commit the staged file\n",
        "\n",
        "repository.index.commit(\"First commit from Python script for GML_EX1\")\n",
        "print(\"Committed changes to local repository.\")\n"
      ],
      "metadata": {
        "colab": {
          "base_uri": "https://localhost:8080/"
        },
        "id": "2YDLlnY2FVdj",
        "outputId": "6533822f-2a42-4f69-ad98-5f12370101ab"
      },
      "execution_count": 8,
      "outputs": [
        {
          "output_type": "stream",
          "name": "stdout",
          "text": [
            "Committed changes to local repository.\n"
          ]
        }
      ]
    },
    {
      "cell_type": "code",
      "source": [
        "# Modify the file to generate changes\n",
        "\n",
        "with open(main_file_name, \"a\") as file:\n",
        "    file.write(\"Appending more lines for testing Git diff.\\n\")\n",
        "print(f\"\\nModified file: {main_file_name}\")\n",
        "\n",
        "print(\"\\nChanges (git diff):\")\n",
        "print(repository.git.diff())"
      ],
      "metadata": {
        "colab": {
          "base_uri": "https://localhost:8080/"
        },
        "id": "wAnMJc9-FVae",
        "outputId": "2ecee5da-ba60-49f5-aeb9-a90271d771a9"
      },
      "execution_count": 9,
      "outputs": [
        {
          "output_type": "stream",
          "name": "stdout",
          "text": [
            "\n",
            "Modified file: GLM_EX1\n",
            "\n",
            "Changes (git diff):\n",
            "diff --git a/GLM_EX1 b/GLM_EX1\n",
            "index 3cbf937..32d9cff 100644\n",
            "--- a/GLM_EX1\n",
            "+++ b/GLM_EX1\n",
            "@@ -1 +1,2 @@\n",
            " This is an initial README for GML_EX1.\n",
            "+Appending more lines for testing Git diff.\n"
          ]
        }
      ]
    },
    {
      "cell_type": "code",
      "source": [
        "# Stage and commit the new changes\n",
        "\n",
        "repository.index.add([main_file_name])\n",
        "repository.index.commit(\"Updated GLM_EX1 with additional content\")\n",
        "\n",
        "#  commit history\n",
        "print(\"\\nCommit History:\")\n",
        "for commit in repository.iter_commits():\n",
        "    print(f\"{commit.hexsha[:7]} - {commit.message.strip()}\")"
      ],
      "metadata": {
        "colab": {
          "base_uri": "https://localhost:8080/"
        },
        "id": "z6kLqJQIHAjK",
        "outputId": "33b43fd1-8e8a-4e5b-f49e-6983314f9545"
      },
      "execution_count": 10,
      "outputs": [
        {
          "output_type": "stream",
          "name": "stdout",
          "text": [
            "\n",
            "Commit History:\n",
            "2ca4978 - Updated GLM_EX1 with additional content\n",
            "bb5e59a - First commit from Python script for GML_EX1\n"
          ]
        }
      ]
    },
    {
      "cell_type": "code",
      "source": [
        "# Create and switch to a new branch\n",
        "\n",
        "feature_branch = repository.create_head(\"dev-feature-branch\")\n",
        "feature_branch.checkout()\n",
        "print(f\"\\nSwitched to new branch: {feature_branch.name}\")\n"
      ],
      "metadata": {
        "colab": {
          "base_uri": "https://localhost:8080/"
        },
        "id": "9cPwWz0aFVXa",
        "outputId": "2d0f326d-de9e-4b1f-b160-50818221bf91"
      },
      "execution_count": 11,
      "outputs": [
        {
          "output_type": "stream",
          "name": "stdout",
          "text": [
            "\n",
            "Switched to new branch: dev-feature-branch\n"
          ]
        }
      ]
    }
  ]
}