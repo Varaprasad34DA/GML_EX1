{
  "nbformat": 4,
  "nbformat_minor": 0,
  "metadata": {
    "colab": {
      "provenance": [],
      "authorship_tag": "ABX9TyN63UegjZGbVgPQ6OS397hD",
      "include_colab_link": true
    },
    "kernelspec": {
      "name": "python3",
      "display_name": "Python 3"
    },
    "language_info": {
      "name": "python"
    }
  },
  "cells": [
    {
      "cell_type": "markdown",
      "metadata": {
        "id": "view-in-github",
        "colab_type": "text"
      },
      "source": [
        "<a href=\"https://colab.research.google.com/github/Varaprasad34DA/GML_EX1/blob/main/GML_EX1.ipynb\" target=\"_parent\"><img src=\"https://colab.research.google.com/assets/colab-badge.svg\" alt=\"Open In Colab\"/></a>"
      ]
    },
    {
      "cell_type": "markdown",
      "source": [
        "\n",
        " 1)A.Income of employee: Let’s assume A works as an hourly paid employee, and he is paid 250/per hour. If he worked for 56 hours then he will get the overtime pay as 100 for the extra hours he worked. Calculate the monthly and annual income of the employee."
      ],
      "metadata": {
        "id": "VfDJofgORSb9"
      }
    },
    {
      "cell_type": "code",
      "execution_count": 11,
      "metadata": {
        "colab": {
          "base_uri": "https://localhost:8080/"
        },
        "id": "1_bC3GHQRM5a",
        "outputId": "e1e7c3f2-c2aa-498b-faa5-fb4c5fdf8b6c"
      },
      "outputs": [
        {
          "output_type": "stream",
          "name": "stdout",
          "text": [
            "enter no:40\n",
            "Weekly Pay: 15600\n",
            "Monthly Pay: 62400\n",
            "Yearly Pay: 748800\n"
          ]
        }
      ],
      "source": [
        "hour_rate = 250\n",
        "hours_worked = 56\n",
        "overtime_rate = 100\n",
        "regular_hours = int(input(\"enter no:\"))\n",
        "\n",
        "if hours_worked > 40:\n",
        "    overtime_hours = hours_worked - 40\n",
        "    overtime_pay = overtime_hours * (hour_rate + overtime_rate)\n",
        "else:\n",
        "   print(\"No overtime\")\n",
        "\n",
        "regular_pay = regular_hours * hour_rate\n",
        "weekly_pay = regular_pay + overtime_pay\n",
        "monthly_pay = weekly_pay * 4\n",
        "yearly_pay = monthly_pay * 12\n",
        "\n",
        "print(\"Weekly Pay:\", weekly_pay)\n",
        "print(\"Monthly Pay:\", monthly_pay)\n",
        "print(\"Yearly Pay:\", yearly_pay)"
      ]
    },
    {
      "cell_type": "markdown",
      "source": [
        "1)B.Electricity Bill: Calculate the electricity bill for household according to the given condition. Commercial = Double times of Household costs.\n",
        "Household:\n",
        "0 to 100 Units = Rs 0.50/unit\n",
        "101 to 200 Units = Rs 0.75/unit\n",
        "201 to 300 Units = Rs 1.20/unit\n",
        "Above 300 Units = Rs 1.50/unit1"
      ],
      "metadata": {
        "id": "7xseB2MBXu2M"
      }
    },
    {
      "cell_type": "code",
      "source": [
        "units = int(input(\"Enter the units:\"))\n",
        "\n",
        "if units <= 100:\n",
        "    bill = units * 0.50\n",
        "elif units <= 200:\n",
        "    bill = (100 * 0.50) + (units - 100) * 0.75\n",
        "elif units <= 300:\n",
        "    bill = (100 * 0.50) + (100 * 0.75) + (units - 200) * 1.20\n",
        "else:\n",
        "    bill = (100 * 0.50) + (100 * 0.75) + (100 * 1.20) + (units - 300) * 1.50\n",
        "\n",
        "commercial_bill = bill * 2\n",
        "\n",
        "print(\"Household Bill: ₹\", bill)\n",
        "print(\"Commercial Bill: ₹\", commercial_bill)\n"
      ],
      "metadata": {
        "colab": {
          "base_uri": "https://localhost:8080/"
        },
        "id": "pTL2OIKSYNnd",
        "outputId": "9d73894c-71ed-42bd-f973-d9ae15ea76de"
      },
      "execution_count": 5,
      "outputs": [
        {
          "output_type": "stream",
          "name": "stdout",
          "text": [
            "Enter the units:370\n",
            "Household Bill: ₹ 350.0\n",
            "Commercial Bill: ₹ 700.0\n"
          ]
        }
      ]
    },
    {
      "cell_type": "markdown",
      "source": [
        "2)A.Data Science Quiz: Conduct a Quiz program for 10 marks, each correct answers should carry 2 marks, each wrong answers should carry -1 marks. Calculate the total scores of the user."
      ],
      "metadata": {
        "id": "2tV5--K3dQgW"
      }
    },
    {
      "cell_type": "code",
      "source": [
        "class Quiz:\n",
        "    def __init__(self, student_name, student_class):\n",
        "        self.student_name = student_name\n",
        "        self.student_class = student_class\n",
        "        self.questions = {\n",
        "             \"Who is known as the Father of the Nation in India?\": \"mahatma gandhi\",\n",
        "             \"which year did India gain independence?\": \"1947\",\n",
        "             \"What is the largest mammal in the world?\": \"blue whale\",\n",
        "             \"How many players are there in a cricket team?\": \"11\",\n",
        "             \"Which is the tallest mountain in the world?\": \"mount everest\"\n",
        "        }\n",
        "        self.score = 0\n",
        "\n",
        "    def ask_question(self, question, answer):\n",
        "        user_input = input(f\"{question}\\nYour answer: \").strip().lower()\n",
        "        if user_input == answer:\n",
        "            print(\" Correct\\n\")\n",
        "            self.score += 2\n",
        "        else:\n",
        "            print(f\" Wrong! Correct answer is: {answer}\\n\")\n",
        "            self.score -= 1\n",
        "\n",
        "class DataScienceQuiz(Quiz):\n",
        "    def __init__(self, student_name, student_class):\n",
        "        super().__init__(student_name, student_class)\n",
        "\n",
        "    def start_quiz(self):\n",
        "        print(\"\\n Welcome to the Data Science Quiz!\\n\")\n",
        "        print(f\"Student Name : {self.student_name}\")\n",
        "        print(f\"Class : {self.student_class}\\n\")\n",
        "\n",
        "        for question, answer in self.questions.items():\n",
        "            self.ask_question(question, answer)\n",
        "\n",
        "        print(f\" {self.student_name}, your final score is: {self.score}/10\")\n",
        "\n",
        "if __name__ == \"__main__\":\n",
        "    name = input(\"Enter your name: \").strip()\n",
        "    cls = input(\"Enter your class: \").strip()\n",
        "\n",
        "    quiz = DataScienceQuiz(name, cls)\n",
        "    quiz.start_quiz()\n"
      ],
      "metadata": {
        "colab": {
          "base_uri": "https://localhost:8080/"
        },
        "id": "McIHrYrcgZ-D",
        "outputId": "4e1bf6fd-0db6-4f01-f511-1b96eda6c24e"
      },
      "execution_count": 7,
      "outputs": [
        {
          "output_type": "stream",
          "name": "stdout",
          "text": [
            "Enter your name: varaprasad\n",
            "Enter your class: data analytics\n",
            "\n",
            " Welcome to the Data Science Quiz!\n",
            "\n",
            "Student Name : varaprasad\n",
            "Class : data analytics\n",
            "\n",
            "Who is known as the Father of the Nation in India?\n",
            "Your answer: mahatma gandhi\n",
            " Correct!\n",
            "\n",
            "which year did India gain independence?\n",
            "Your answer: 1947\n",
            " Correct!\n",
            "\n",
            "What is the largest mammal in the world?\n",
            "Your answer: elephant\n",
            " Wrong! Correct answer is: blue whale\n",
            "\n",
            "How many players are there in a cricket team?\n",
            "Your answer: 11\n",
            " Correct!\n",
            "\n",
            "Which is the tallest mountain in the world?\n",
            "Your answer: mount everest\n",
            " Correct!\n",
            "\n",
            " varaprasad, your final score is: 7/10\n"
          ]
        }
      ]
    },
    {
      "cell_type": "markdown",
      "source": [
        "2)B.Calculate the Gross Salary and Net Salary of an employee for following allowance & deduction Using Inheritance.\n",
        "Get Basic Salary of Employee,\n",
        "DA = 20% of Basic, HRA = 10% of Basic, PF = 12% of Basic, TA = 7.50% of Basic.\n",
        "EMI = 2% of Basic\n"
      ],
      "metadata": {
        "id": "X1Fo_iLtg392"
      }
    },
    {
      "cell_type": "code",
      "source": [
        "class Employee:\n",
        "    def __init__(self, name, basic_salary):\n",
        "        self.name = name\n",
        "        self.basic_salary = basic_salary\n",
        "\n",
        "class Salary(Employee):\n",
        "    def __init__(self, name, basic_salary):\n",
        "        super().__init__(name, basic_salary)\n",
        "        self.da = 0.20 * self.basic_salary\n",
        "        self.hra = 0.10 * self.basic_salary\n",
        "        self.ta = 0.075 * self.basic_salary\n",
        "        self.pf = 0.12 * self.basic_salary\n",
        "        self.emi = 0.02 * self.basic_salary\n",
        "\n",
        "    def calculate(self):\n",
        "        gross_salary = self.basic_salary + self.da + self.hra + self.ta\n",
        "        total_deductions = self.pf + self.emi\n",
        "        net_salary = gross_salary - total_deductions\n",
        "\n",
        "        print(f\"DA (20%) : {self.da}\")\n",
        "        print(f\"HRA (10%) : {self.hra}\")\n",
        "        print(f\"TA (7.5%) : {self.ta}\")\n",
        "        print(f\"PF (12%)  : {self.pf}\")\n",
        "        print(f\"EMI (2%)  : {self.emi}\")\n",
        "        print(f\"Gross Salary : {gross_salary}\")\n",
        "        print(f\"Total Deductions : {total_deductions}\")\n",
        "        print(f\"Net Salary  : {net_salary}\")\n",
        "\n",
        "if __name__ == \"__main__\":\n",
        "    name = input(\"Enter Employee name: \")\n",
        "    basic_salary = float(input(\"Enter basic salary for employee: ₹\"))\n",
        "\n",
        "    emp_salary = Salary(name, basic_salary)\n",
        "    emp_salary.calculate()\n"
      ],
      "metadata": {
        "colab": {
          "base_uri": "https://localhost:8080/"
        },
        "id": "KOZ4JOgHhBhN",
        "outputId": "b9cda1f3-966b-4e10-e6ee-3425bd12342f"
      },
      "execution_count": 12,
      "outputs": [
        {
          "output_type": "stream",
          "name": "stdout",
          "text": [
            "Enter Employee name: varaprasad\n",
            "Enter basic salary for employee: ₹73000\n",
            "DA (20%) : 14600.0\n",
            "HRA (10%) : 7300.0\n",
            "TA (7.5%) : 5475.0\n",
            "PF (12%)  : 8760.0\n",
            "EMI (2%)  : 1460.0\n",
            "Gross Salary : 100375.0\n",
            "Total Deductions : 10220.0\n",
            "Net Salary  : 90155.0\n"
          ]
        }
      ]
    }
  ]
}
